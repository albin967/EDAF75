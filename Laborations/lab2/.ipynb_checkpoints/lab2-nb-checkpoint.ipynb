{
 "cells": [
  {
   "cell_type": "markdown",
   "metadata": {},
   "source": [
    "<!-- -*- mode: markdown; coding: utf-8; fill-column: 60; ispell-dictionary: \"english\" -*- -->\n",
    "\n",
    "<meta charset=\"utf-8\"/>\n",
    "<meta name=\"viewport\" content=\"width=device-width,initial-scale=1\"/>\n",
    "<link rel=\"stylesheet\" href=\"style.css\">\n",
    "\n",
    "\n",
    "# EDAF75 - lab 2: Testing the database\n",
    "\n",
    "As usual we have to tell Jupyter to allow SQL:"
   ]
  },
  {
   "cell_type": "code",
   "execution_count": 3,
   "metadata": {},
   "outputs": [],
   "source": [
    "%load_ext sql"
   ]
  },
  {
   "cell_type": "markdown",
   "metadata": {},
   "source": [
    "And then we import our movie database"
   ]
  },
  {
   "cell_type": "code",
   "execution_count": 4,
   "metadata": {},
   "outputs": [
    {
     "data": {
      "text/plain": [
       "'Connected: @movies.sqlite'"
      ]
     },
     "execution_count": 4,
     "metadata": {},
     "output_type": "execute_result"
    }
   ],
   "source": [
    "%sql sqlite:///movies.sqlite"
   ]
  },
  {
   "cell_type": "markdown",
   "metadata": {},
   "source": [
    "We want to make sure that SQLite3 really checks our foreign\n",
    "key constraints -- to do that, we run:"
   ]
  },
  {
   "cell_type": "code",
   "execution_count": 5,
   "metadata": {},
   "outputs": [
    {
     "name": "stdout",
     "output_type": "stream",
     "text": [
      " * sqlite:///movies.sqlite\n",
      "Done.\n"
     ]
    },
    {
     "data": {
      "text/plain": [
       "[]"
      ]
     },
     "execution_count": 5,
     "metadata": {},
     "output_type": "execute_result"
    }
   ],
   "source": [
    "%%sql\n",
    "PRAGMA foreign_keys=ON;"
   ]
  },
  {
   "cell_type": "markdown",
   "metadata": {},
   "source": [
    "Now write SQL code for the following tasks:\n",
    "\n",
    "\n",
    "+ Show the names of all movies."
   ]
  },
  {
   "cell_type": "code",
   "execution_count": 6,
   "metadata": {},
   "outputs": [
    {
     "name": "stdout",
     "output_type": "stream",
     "text": [
      " * sqlite:///movies.sqlite\n",
      "Done.\n"
     ]
    },
    {
     "data": {
      "text/html": [
       "<table>\n",
       "    <tr>\n",
       "        <th>IMDB_key</th>\n",
       "        <th>name</th>\n",
       "        <th>year</th>\n",
       "        <th>duration</th>\n",
       "    </tr>\n",
       "    <tr>\n",
       "        <td>tt0111161</td>\n",
       "        <td>The Shawshank Redemption</td>\n",
       "        <td>1994</td>\n",
       "        <td>142</td>\n",
       "    </tr>\n",
       "    <tr>\n",
       "        <td>tt0068646</td>\n",
       "        <td>The Godfather</td>\n",
       "        <td>1972</td>\n",
       "        <td>275</td>\n",
       "    </tr>\n",
       "    <tr>\n",
       "        <td>tt0468569</td>\n",
       "        <td>The Dark Knight</td>\n",
       "        <td>2008</td>\n",
       "        <td>152</td>\n",
       "    </tr>\n",
       "    <tr>\n",
       "        <td>tt0167260</td>\n",
       "        <td>The Lord of the Rings: The Return of the King</td>\n",
       "        <td>2003</td>\n",
       "        <td>301</td>\n",
       "    </tr>\n",
       "</table>"
      ],
      "text/plain": [
       "[('tt0111161', 'The Shawshank Redemption', 1994, 142),\n",
       " ('tt0068646', 'The Godfather', 1972, 275),\n",
       " ('tt0468569', 'The Dark Knight', 2008, 152),\n",
       " ('tt0167260', 'The Lord of the Rings: The Return of the King', 2003, 301)]"
      ]
     },
     "execution_count": 6,
     "metadata": {},
     "output_type": "execute_result"
    }
   ],
   "source": [
    "%%sql\n",
    "SELECT *\n",
    "FROM movies\n",
    "\n"
   ]
  },
  {
   "cell_type": "markdown",
   "metadata": {},
   "source": [
    "+ Show the performance dates for one of the movies."
   ]
  },
  {
   "cell_type": "code",
   "execution_count": 7,
   "metadata": {},
   "outputs": [
    {
     "name": "stdout",
     "output_type": "stream",
     "text": [
      " * sqlite:///movies.sqlite\n",
      "Done.\n"
     ]
    },
    {
     "data": {
      "text/html": [
       "<table>\n",
       "    <tr>\n",
       "        <th>start_date</th>\n",
       "        <th>start_time</th>\n",
       "        <th>th_name</th>\n",
       "        <th>name</th>\n",
       "    </tr>\n",
       "    <tr>\n",
       "        <td>2019–02-12</td>\n",
       "        <td>20:00</td>\n",
       "        <td>SF LUND</td>\n",
       "        <td>The Shawshank Redemption</td>\n",
       "    </tr>\n",
       "    <tr>\n",
       "        <td>2019–02-13</td>\n",
       "        <td>20:00</td>\n",
       "        <td>SF LUND</td>\n",
       "        <td>The Shawshank Redemption</td>\n",
       "    </tr>\n",
       "    <tr>\n",
       "        <td>2019–02-13</td>\n",
       "        <td>20:00</td>\n",
       "        <td>SF STOCKHOLM</td>\n",
       "        <td>The Shawshank Redemption</td>\n",
       "    </tr>\n",
       "</table>"
      ],
      "text/plain": [
       "[('2019–02-12', '20:00', 'SF LUND', 'The Shawshank Redemption'),\n",
       " ('2019–02-13', '20:00', 'SF LUND', 'The Shawshank Redemption'),\n",
       " ('2019–02-13', '20:00', 'SF STOCKHOLM', 'The Shawshank Redemption')]"
      ]
     },
     "execution_count": 7,
     "metadata": {},
     "output_type": "execute_result"
    }
   ],
   "source": [
    "%%sql\n",
    "SELECT start_date,start_time,th_name, name\n",
    "FROM shows\n",
    "LEFT JOIN movies\n",
    "USING (IMDB_key)\n",
    "WHERE name = \"The Shawshank Redemption\"\n"
   ]
  },
  {
   "cell_type": "markdown",
   "metadata": {},
   "source": [
    "+ Show all data concerning performances at a given theatere\n",
    "  on a given date."
   ]
  },
  {
   "cell_type": "code",
   "execution_count": 8,
   "metadata": {},
   "outputs": [
    {
     "name": "stdout",
     "output_type": "stream",
     "text": [
      " * sqlite:///movies.sqlite\n",
      "Done.\n"
     ]
    },
    {
     "data": {
      "text/html": [
       "<table>\n",
       "    <tr>\n",
       "        <th>th_name</th>\n",
       "        <th>capacity</th>\n",
       "        <th>IMDB_key</th>\n",
       "        <th>start_date</th>\n",
       "        <th>start_time</th>\n",
       "        <th>name</th>\n",
       "        <th>year</th>\n",
       "        <th>duration</th>\n",
       "        <th>title</th>\n",
       "    </tr>\n",
       "    <tr>\n",
       "        <td>SF STOCKHOLM</td>\n",
       "        <td>300</td>\n",
       "        <td>tt0068646</td>\n",
       "        <td>2019–02-12</td>\n",
       "        <td>20:00</td>\n",
       "        <td>The Godfather</td>\n",
       "        <td>1972</td>\n",
       "        <td>275</td>\n",
       "        <td>The Godfather</td>\n",
       "    </tr>\n",
       "    <tr>\n",
       "        <td>SF STOCKHOLM</td>\n",
       "        <td>300</td>\n",
       "        <td>tt0111161</td>\n",
       "        <td>2019–02-13</td>\n",
       "        <td>20:00</td>\n",
       "        <td>The Shawshank Redemption</td>\n",
       "        <td>1994</td>\n",
       "        <td>142</td>\n",
       "        <td>The Shawshank Redemption</td>\n",
       "    </tr>\n",
       "    <tr>\n",
       "        <td>SF STOCKHOLM</td>\n",
       "        <td>300</td>\n",
       "        <td>tt0068646</td>\n",
       "        <td>2019–02-11</td>\n",
       "        <td>20:00</td>\n",
       "        <td>The Godfather</td>\n",
       "        <td>1972</td>\n",
       "        <td>275</td>\n",
       "        <td>The Godfather</td>\n",
       "    </tr>\n",
       "</table>"
      ],
      "text/plain": [
       "[('SF STOCKHOLM', 300, 'tt0068646', '2019–02-12', '20:00', 'The Godfather', 1972, 275, 'The Godfather'),\n",
       " ('SF STOCKHOLM', 300, 'tt0111161', '2019–02-13', '20:00', 'The Shawshank Redemption', 1994, 142, 'The Shawshank Redemption'),\n",
       " ('SF STOCKHOLM', 300, 'tt0068646', '2019–02-11', '20:00', 'The Godfather', 1972, 275, 'The Godfather')]"
      ]
     },
     "execution_count": 8,
     "metadata": {},
     "output_type": "execute_result"
    }
   ],
   "source": [
    "%%sql\n",
    "SELECT *, name as title\n",
    "FROM theaters\n",
    "LEFT JOIN shows\n",
    "USING (th_name)\n",
    "JOIN movies\n",
    "USING (IMDB_key)\n",
    "WHERE th_name = \"SF STOCKHOLM\""
   ]
  },
  {
   "cell_type": "markdown",
   "metadata": {},
   "source": [
    "+ List all customers"
   ]
  },
  {
   "cell_type": "code",
   "execution_count": 9,
   "metadata": {},
   "outputs": [
    {
     "name": "stdout",
     "output_type": "stream",
     "text": [
      " * sqlite:///movies.sqlite\n",
      "Done.\n"
     ]
    },
    {
     "data": {
      "text/html": [
       "<table>\n",
       "    <tr>\n",
       "        <th>user_id</th>\n",
       "        <th>full_name</th>\n",
       "        <th>password</th>\n",
       "    </tr>\n",
       "    <tr>\n",
       "        <td>313d1ba0871373fe3eb29fda1ef2d9cd</td>\n",
       "        <td>FABIAN FRANKEL</td>\n",
       "        <td>hallojsan</td>\n",
       "    </tr>\n",
       "    <tr>\n",
       "        <td>648b64ff3eb7560015a923265a527bba</td>\n",
       "        <td>SEPEHR TAYARI</td>\n",
       "        <td>jamboseli</td>\n",
       "    </tr>\n",
       "    <tr>\n",
       "        <td>e6a37565b6582487c406ac0c72313c48</td>\n",
       "        <td>MARCUS INGEMANSSON</td>\n",
       "        <td>DJINGSTRING</td>\n",
       "    </tr>\n",
       "</table>"
      ],
      "text/plain": [
       "[('313d1ba0871373fe3eb29fda1ef2d9cd', 'FABIAN FRANKEL', 'hallojsan'),\n",
       " ('648b64ff3eb7560015a923265a527bba', 'SEPEHR TAYARI', 'jamboseli'),\n",
       " ('e6a37565b6582487c406ac0c72313c48', 'MARCUS INGEMANSSON', 'DJINGSTRING')]"
      ]
     },
     "execution_count": 9,
     "metadata": {},
     "output_type": "execute_result"
    }
   ],
   "source": [
    "%%sql\n",
    "SELECT *\n",
    "FROM customers\n"
   ]
  },
  {
   "cell_type": "markdown",
   "metadata": {},
   "source": [
    "+ List all tickets"
   ]
  },
  {
   "cell_type": "code",
   "execution_count": 10,
   "metadata": {},
   "outputs": [
    {
     "name": "stdout",
     "output_type": "stream",
     "text": [
      " * sqlite:///movies.sqlite\n",
      "Done.\n"
     ]
    },
    {
     "data": {
      "text/html": [
       "<table>\n",
       "    <tr>\n",
       "        <th>ticket_id</th>\n",
       "        <th>th_name</th>\n",
       "        <th>IMDB_key</th>\n",
       "        <th>start_time</th>\n",
       "        <th>start_date</th>\n",
       "    </tr>\n",
       "    <tr>\n",
       "        <td>e65ee431d0839a629a4219aa36e9e41b</td>\n",
       "        <td>SF LUND</td>\n",
       "        <td>tt0111161</td>\n",
       "        <td>2019–02-12</td>\n",
       "        <td>20:00</td>\n",
       "    </tr>\n",
       "    <tr>\n",
       "        <td>d80fb559f3adc366874f6082dd72d0e1</td>\n",
       "        <td>SF LUND</td>\n",
       "        <td>tt0111161</td>\n",
       "        <td>2019–02-13</td>\n",
       "        <td>20:00</td>\n",
       "    </tr>\n",
       "    <tr>\n",
       "        <td>6c7c505f6bd682d84d96f16182fb4578</td>\n",
       "        <td>SF LUND</td>\n",
       "        <td>tt0068646</td>\n",
       "        <td>2019–02-11</td>\n",
       "        <td>20:00</td>\n",
       "    </tr>\n",
       "    <tr>\n",
       "        <td>e21e6e0b5bb03f4e876c47868649a423</td>\n",
       "        <td>SF MALMO</td>\n",
       "        <td>tt0468569</td>\n",
       "        <td>2019–02-13</td>\n",
       "        <td>20:00</td>\n",
       "    </tr>\n",
       "    <tr>\n",
       "        <td>f6413cbcd999ee21b4cdd86b58470f46</td>\n",
       "        <td>SF MALMO</td>\n",
       "        <td>tt0068646</td>\n",
       "        <td>2019–02-11</td>\n",
       "        <td>20:00</td>\n",
       "    </tr>\n",
       "    <tr>\n",
       "        <td>bd967892c99ac79eebd3a403aa62af5b</td>\n",
       "        <td>SF STOCKHOLM</td>\n",
       "        <td>tt0068646</td>\n",
       "        <td>2019–02-12</td>\n",
       "        <td>20:00</td>\n",
       "    </tr>\n",
       "    <tr>\n",
       "        <td>af224fd9cdabe28e5c3b4cd8bd076765</td>\n",
       "        <td>SF STOCKHOLM</td>\n",
       "        <td>tt0111161</td>\n",
       "        <td>2019–02-13</td>\n",
       "        <td>20:00</td>\n",
       "    </tr>\n",
       "    <tr>\n",
       "        <td>0c98fafbf9a279412503fc109ab2ee45</td>\n",
       "        <td>SF STOCKHOLM</td>\n",
       "        <td>tt0068646</td>\n",
       "        <td>2019–02-11</td>\n",
       "        <td>20:00</td>\n",
       "    </tr>\n",
       "</table>"
      ],
      "text/plain": [
       "[('e65ee431d0839a629a4219aa36e9e41b', 'SF LUND', 'tt0111161', '2019–02-12', '20:00'),\n",
       " ('d80fb559f3adc366874f6082dd72d0e1', 'SF LUND', 'tt0111161', '2019–02-13', '20:00'),\n",
       " ('6c7c505f6bd682d84d96f16182fb4578', 'SF LUND', 'tt0068646', '2019–02-11', '20:00'),\n",
       " ('e21e6e0b5bb03f4e876c47868649a423', 'SF MALMO', 'tt0468569', '2019–02-13', '20:00'),\n",
       " ('f6413cbcd999ee21b4cdd86b58470f46', 'SF MALMO', 'tt0068646', '2019–02-11', '20:00'),\n",
       " ('bd967892c99ac79eebd3a403aa62af5b', 'SF STOCKHOLM', 'tt0068646', '2019–02-12', '20:00'),\n",
       " ('af224fd9cdabe28e5c3b4cd8bd076765', 'SF STOCKHOLM', 'tt0111161', '2019–02-13', '20:00'),\n",
       " ('0c98fafbf9a279412503fc109ab2ee45', 'SF STOCKHOLM', 'tt0068646', '2019–02-11', '20:00')]"
      ]
     },
     "execution_count": 10,
     "metadata": {},
     "output_type": "execute_result"
    }
   ],
   "source": [
    "%%sql\n",
    "SELECT *\n",
    "FROM tickets\n"
   ]
  },
  {
   "cell_type": "markdown",
   "metadata": {},
   "source": [
    "+ Create a new ticket to some performance (i.e., insert a\n",
    "  new row in your table of tickets)."
   ]
  },
  {
   "cell_type": "code",
   "execution_count": 11,
   "metadata": {},
   "outputs": [
    {
     "name": "stdout",
     "output_type": "stream",
     "text": [
      " * sqlite:///movies.sqlite\n",
      "1 rows affected.\n"
     ]
    },
    {
     "data": {
      "text/plain": [
       "[]"
      ]
     },
     "execution_count": 11,
     "metadata": {},
     "output_type": "execute_result"
    }
   ],
   "source": [
    "%%sql\n",
    "INSERT\n",
    "INTO tickets (th_name, IMDB_key, start_time, start_date)\n",
    "VALUES (\"SF LUND\", \"tt0111161\", \"20:00\", \"2019–02-12\")\n"
   ]
  },
  {
   "cell_type": "markdown",
   "metadata": {},
   "source": [
    "In\n",
    "  [PostgreSQL](https://www.postgresql.org/docs/current/sql-insert.html)\n",
    "  we can get any value generated during an insert using the\n",
    "  `INSERT...-RETURNING` statement:"
   ]
  },
  {
   "cell_type": "markdown",
   "metadata": {},
   "source": [
    "~~~{.sql}\n",
    "INSERT\n",
    "INTO       students\n",
    "VALUES     ('Amy', 3.9, 1200)\n",
    "RETURNING  s_id\n",
    "~~~\n"
   ]
  },
  {
   "cell_type": "markdown",
   "metadata": {},
   "source": [
    "In SQLite3 (as of January 2020), we can't do that, instead\n",
    "  we can use the following idea: each row in a SQLite3 table\n",
    "  has a `rowid` attribute, it is a unique integer which\n",
    "  essentially tells in which order the rows were inserted,\n",
    "  and it's not displayed in queries unless we ask for it.\n",
    "  SQLite3 also have a function, `last_insert_rowid()`, which\n",
    "  returns the `rowid` of the last inserted row of a table,\n",
    "  so we can see the `s_id` of the most recently inserted\n",
    "  student with the following query:"
   ]
  },
  {
   "cell_type": "markdown",
   "metadata": {},
   "source": [
    "~~~{.sql}\n",
    "SELECT s_id\n",
    "FROM   students\n",
    "WHERE  rowid = last_insert_rowid();\n",
    "~~~\n"
   ]
  },
  {
   "cell_type": "markdown",
   "metadata": {},
   "source": [
    "Now, check what ticket number we got for the ticket we\n",
    "  created above (it should be the same as the ticket id,\n",
    "  which should be a `randomblob`):"
   ]
  },
  {
   "cell_type": "code",
   "execution_count": 12,
   "metadata": {},
   "outputs": [
    {
     "name": "stdout",
     "output_type": "stream",
     "text": [
      " * sqlite:///movies.sqlite\n",
      "Done.\n"
     ]
    },
    {
     "data": {
      "text/html": [
       "<table>\n",
       "    <tr>\n",
       "        <th>ticket_id</th>\n",
       "    </tr>\n",
       "    <tr>\n",
       "        <td>14649add11110e89fb672929387d0fa9</td>\n",
       "    </tr>\n",
       "</table>"
      ],
      "text/plain": [
       "[('14649add11110e89fb672929387d0fa9',)]"
      ]
     },
     "execution_count": 12,
     "metadata": {},
     "output_type": "execute_result"
    }
   ],
   "source": [
    "%%sql\n",
    "SELECT ticket_id\n",
    "FROM tickets\n",
    "WHERE rowid = last_insert_rowid()"
   ]
  },
  {
   "cell_type": "markdown",
   "metadata": {},
   "source": [
    "+ Try to insert two movie theaters with the same name (this\n",
    "  should fail)."
   ]
  },
  {
   "cell_type": "code",
   "execution_count": null,
   "metadata": {},
   "outputs": [],
   "source": [
    "%%sql\n",
    "INSERT\n",
    "INTO movies\n",
    "VALUES (\"tt0468569\", \"The Dark Knight\", 2008, 152\n",
    ");\n",
    "\n"
   ]
  },
  {
   "cell_type": "markdown",
   "metadata": {},
   "source": [
    "+ Try to insert a performance where the theater doesn’t\n",
    "  exist in the database (this should fail)."
   ]
  },
  {
   "cell_type": "code",
   "execution_count": null,
   "metadata": {},
   "outputs": [],
   "source": [
    "%%sql\n"
   ]
  },
  {
   "cell_type": "markdown",
   "metadata": {},
   "source": [
    "+ Create a ticket where either the user or the performance\n",
    "  doesn’t exist."
   ]
  },
  {
   "cell_type": "code",
   "execution_count": null,
   "metadata": {},
   "outputs": [],
   "source": [
    "%%sql\n"
   ]
  }
 ],
 "metadata": {
  "kernelspec": {
   "display_name": "Python 3",
   "language": "python",
   "name": "python3"
  },
  "language_info": {
   "codemirror_mode": {
    "name": "ipython",
    "version": 3
   },
   "file_extension": ".py",
   "mimetype": "text/x-python",
   "name": "python",
   "nbconvert_exporter": "python",
   "pygments_lexer": "ipython3",
   "version": "3.7.4"
  }
 },
 "nbformat": 4,
 "nbformat_minor": 2
}
